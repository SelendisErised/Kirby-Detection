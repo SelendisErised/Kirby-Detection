{
  "nbformat": 4,
  "nbformat_minor": 0,
  "metadata": {
    "colab": {
      "name": "serpapi_emp.ipynb",
      "provenance": [],
      "authorship_tag": "ABX9TyMnIoVvZ9Djeaij2VUYZHaQ",
      "include_colab_link": true
    },
    "kernelspec": {
      "name": "python3",
      "display_name": "Python 3"
    },
    "language_info": {
      "name": "python"
    }
  },
  "cells": [
    {
      "cell_type": "markdown",
      "metadata": {
        "id": "view-in-github",
        "colab_type": "text"
      },
      "source": [
        "<a href=\"https://colab.research.google.com/github/SelendisErised/Kirby-Detection/blob/main/serpapi_emp.ipynb\" target=\"_parent\"><img src=\"https://colab.research.google.com/assets/colab-badge.svg\" alt=\"Open In Colab\"/></a>"
      ]
    },
    {
      "cell_type": "markdown",
      "source": [
        "# Scrape and download Google Images with Python (Colab)"
      ],
      "metadata": {
        "id": "n2U6LUSMFlfL"
      }
    },
    {
      "cell_type": "markdown",
      "source": [
        "## Mount your drive"
      ],
      "metadata": {
        "id": "Xz0KjvWWGNWZ"
      }
    },
    {
      "cell_type": "code",
      "execution_count": 2,
      "metadata": {
        "colab": {
          "base_uri": "https://localhost:8080/"
        },
        "id": "NqNXGcvvFfWb",
        "outputId": "925bfcb7-6e7e-4516-da7a-87628aca48c2"
      },
      "outputs": [
        {
          "output_type": "stream",
          "name": "stdout",
          "text": [
            "Drive already mounted at /content/drive; to attempt to forcibly remount, call drive.mount(\"/content/drive\", force_remount=True).\n"
          ]
        }
      ],
      "source": [
        "from google.colab import drive\n",
        "drive.mount('/content/drive')"
      ]
    },
    {
      "cell_type": "markdown",
      "source": [
        "## Check your current working directory"
      ],
      "metadata": {
        "id": "bYsm15ZUFk1S"
      }
    },
    {
      "cell_type": "code",
      "source": [
        "# You could change the path\n",
        "import os\n",
        "\n",
        "\n",
        "path = '/content/drive/MyDrive'\n",
        "os.chdir(path)\n",
        "print(os.getcwd())"
      ],
      "metadata": {
        "colab": {
          "base_uri": "https://localhost:8080/"
        },
        "id": "e07xgB9TGhiq",
        "outputId": "2a9a0f39-90ef-4424-9a28-e90e6f7b97e4"
      },
      "execution_count": 4,
      "outputs": [
        {
          "output_type": "stream",
          "name": "stdout",
          "text": [
            "/content/drive/MyDrive\n"
          ]
        }
      ]
    },
    {
      "cell_type": "markdown",
      "source": [
        "## Install required dependencies"
      ],
      "metadata": {
        "id": "AExJhmAFHJh4"
      }
    },
    {
      "cell_type": "code",
      "source": [
        "!python -m pip install google-search-results"
      ],
      "metadata": {
        "colab": {
          "base_uri": "https://localhost:8080/"
        },
        "id": "lbrRVrodHOSk",
        "outputId": "226f36fd-67f2-4602-d58e-955a8ab19a40"
      },
      "execution_count": 5,
      "outputs": [
        {
          "output_type": "stream",
          "name": "stdout",
          "text": [
            "Looking in indexes: https://pypi.org/simple, https://us-python.pkg.dev/colab-wheels/public/simple/\n",
            "Requirement already satisfied: google-search-results in /usr/local/lib/python3.7/dist-packages (2.4.1)\n",
            "Requirement already satisfied: requests in /usr/local/lib/python3.7/dist-packages (from google-search-results) (2.23.0)\n",
            "Requirement already satisfied: certifi>=2017.4.17 in /usr/local/lib/python3.7/dist-packages (from requests->google-search-results) (2022.5.18.1)\n",
            "Requirement already satisfied: urllib3!=1.25.0,!=1.25.1,<1.26,>=1.21.1 in /usr/local/lib/python3.7/dist-packages (from requests->google-search-results) (1.24.3)\n",
            "Requirement already satisfied: chardet<4,>=3.0.2 in /usr/local/lib/python3.7/dist-packages (from requests->google-search-results) (3.0.4)\n",
            "Requirement already satisfied: idna<3,>=2.5 in /usr/local/lib/python3.7/dist-packages (from requests->google-search-results) (2.10)\n"
          ]
        }
      ]
    },
    {
      "cell_type": "markdown",
      "source": [
        "## Set searching information"
      ],
      "metadata": {
        "id": "iZx88km1HQQ5"
      }
    },
    {
      "cell_type": "code",
      "source": [
        "#User Constants\n",
        "image_name = \"cat\"  # The content you want to search\n",
        "output_path = \"./SerpApi_Images/\"   # The name of the output dir\n",
        "page_to_search = 2\n",
        "api_key = \"\"  # register in https://serpapi.com/, and get your api key"
      ],
      "metadata": {
        "id": "QWaSon7XHbYG"
      },
      "execution_count": 8,
      "outputs": []
    },
    {
      "cell_type": "code",
      "source": [
        "import os, urllib.request, json  # json for pretty output\n",
        "from serpapi import GoogleSearch\n",
        "\n",
        "\n",
        "def get_google_images():\n",
        "    params = {\n",
        "        \"api_key\": api_key,\n",
        "        \"engine\": \"google\",\n",
        "        \"q\": image_name,\n",
        "        \"tbm\": \"isch\",\n",
        "        \"ijn\": str(page_to_search),\n",
        "    }\n",
        "\n",
        "    search = GoogleSearch(params)\n",
        "    results = search.get_dict()\n",
        "\n",
        "    try:\n",
        "      json.dumps(results[\"images_results\"], indent=2, ensure_ascii=False)\n",
        "    except: \n",
        "      print(\"No images found\")\n",
        "      return\n",
        "\n",
        "\n",
        "    if not os.path.exists(output_path):\n",
        "        os.makedirs(output_path)\n",
        "\n",
        "    # -----------------------\n",
        "    # Downloading images\n",
        "\n",
        "    opener = urllib.request.build_opener()\n",
        "    opener.addheaders = [\n",
        "        (\n",
        "            \"User-Agent\",\n",
        "            \"Mozilla/5.0 (Windows NT 10.0; Win64; x64) AppleWebKit/537.36 (KHTML, like Gecko) Chrome/70.0.3538.102 Safari/537.36 Edge/18.19582\",\n",
        "        )\n",
        "    ]\n",
        "    urllib.request.install_opener(opener)\n",
        "\n",
        "    filenum = 1\n",
        "    for index, image in enumerate(results[\"images_results\"]):\n",
        "\n",
        "        print(f\"Downloading {index} image...\")\n",
        "\n",
        "        filepath = os.path.join(output_path, params[\"q\"] + str(filenum) + \".jpg\")\n",
        "        print(image[\"original\"])\n",
        "        \n",
        "        try:\n",
        "          response = urllib.request.urlopen(image[\"original\"], timeout=10)\n",
        "        except:\n",
        "          print(\"Error downloading image\")\n",
        "          continue\n",
        "        image = response.read()\n",
        "\n",
        "        with open(filepath, \"wb\") as file:\n",
        "            file.write(image)\n",
        "        filenum += 1\n",
        "      \n",
        "get_google_images()"
      ],
      "metadata": {
        "id": "-AMxazLVI0Cl"
      },
      "execution_count": null,
      "outputs": []
    }
  ]
}